{
 "cells": [
  {
   "cell_type": "code",
   "execution_count": 1,
   "metadata": {},
   "outputs": [],
   "source": [
    "class Duree:\n",
    "    ''' la classe definissnt une durée caracterisée par:\n",
    "        - l'heure;\n",
    "        - la minute\n",
    "        - la seconde '''\n",
    "    \n",
    "    def __init__ (self,heure,minute,seconde):\n",
    "        # Constucteur de notre classe\n",
    "        self._heure = heure\n",
    "        self.minute = minute\n",
    "        self.seconde = seconde\n",
    "    def __str__(self):\n",
    "        # definition d'une methode qui nos objets dele classe durée en une bonne forme \n",
    "        # 1) pour le reglage de l'heure dans son format\n",
    "        if self.seconde >= 60:\n",
    "            self.minute += self.seconde // 60\n",
    "            self.seconde = self.seconde % 60\n",
    "            \n",
    "        if self.minute >= 60:\n",
    "            self._heure += self.minute // 60\n",
    "            self.minute = self.minute % 60\n",
    "       \n",
    "        if self._heure >= 24:\n",
    "            self._heure = self._heure % 24\n",
    "            \n",
    "        # 2) pour l'apparution du zeros pour les duree <9 : ex si seconde = 9 ,on va afficher seconde = 09sec        \n",
    "        if self.seconde <= 9:\n",
    "            self.seconde = '0' + str(self.seconde)\n",
    "        else:\n",
    "            self.seconde = self.seconde       \n",
    "        if self.minute <= 9:\n",
    "            self.minute = '0' + str(self.minute)\n",
    "        else:\n",
    "            self.minute = self.minute\n",
    "        if self._heure <= 9:\n",
    "            self._heure = '0' + str(self._heure)\n",
    "        else:\n",
    "            self._heure = self._heure\n",
    "        return \"{0}h {1}min :{2}sec\".format(self._heure, self.minute, self.seconde)\n",
    "        \n",
    "    def __add__(self,objet_a_ajouter):\n",
    "       #definition d'une methode qui permet d'additioner deux objet du type Duree \n",
    "        nouvelle_duree = Duree (0,0,0)\n",
    "        nouvelle_duree.seconde += objet_a_ajouter.seconde + self.seconde\n",
    "        nouvelle_duree.minute += objet_a_ajouter.minute + self.minute\n",
    "        nouvelle_duree ._heure += objet_a_ajouter._heure + self._heure\n",
    "        return nouvelle_duree\n",
    "    \n",
    "    def __len__(self):\n",
    "        #methode qui nous retourne la longueur d'un objet de la classe Duree\n",
    "        return len(dict(self.__dict__).items())\n",
    "    \n",
    "    #definition de l'heure comme proprieté\n",
    "    def _get_heure(self):\n",
    "        return sel._heure\n",
    "    def _set_heure(self,v):\n",
    "        print(\"Attension!!! vous ne pouvez pas modifier l'heure\") \n",
    "    heure= property(_get_heure,_set_heure)\n",
    "        "
   ]
  },
  {
   "cell_type": "code",
   "execution_count": 2,
   "metadata": {},
   "outputs": [
    {
     "name": "stdout",
     "output_type": "stream",
     "text": [
      "06h 35min :45sec\n"
     ]
    }
   ],
   "source": [
    "d1 = Duree(6,35,45)\n",
    "print(d1)"
   ]
  },
  {
   "cell_type": "code",
   "execution_count": 3,
   "metadata": {},
   "outputs": [
    {
     "name": "stdout",
     "output_type": "stream",
     "text": [
      "04h 06min :25sec\n"
     ]
    }
   ],
   "source": [
    "d2 = Duree (26,125,85)\n",
    "print(d2)"
   ]
  },
  {
   "cell_type": "code",
   "execution_count": 4,
   "metadata": {},
   "outputs": [
    {
     "name": "stdout",
     "output_type": "stream",
     "text": [
      "01h 01min :00sec\n"
     ]
    }
   ],
   "source": [
    "d3 = Duree(12,30,30)\n",
    "d4 = Duree(12,30,30)\n",
    "d5 = d4+d3\n",
    "print(d5)"
   ]
  },
  {
   "cell_type": "code",
   "execution_count": 5,
   "metadata": {},
   "outputs": [
    {
     "name": "stdout",
     "output_type": "stream",
     "text": [
      "3\n"
     ]
    }
   ],
   "source": [
    "print(len(d1))"
   ]
  },
  {
   "cell_type": "code",
   "execution_count": 6,
   "metadata": {},
   "outputs": [
    {
     "name": "stdout",
     "output_type": "stream",
     "text": [
      "Attension!!! vous ne pouvez pas modifier l'heure\n"
     ]
    }
   ],
   "source": [
    "d1.heure = 5"
   ]
  },
  {
   "cell_type": "code",
   "execution_count": null,
   "metadata": {},
   "outputs": [],
   "source": []
  },
  {
   "cell_type": "code",
   "execution_count": null,
   "metadata": {},
   "outputs": [],
   "source": []
  }
 ],
 "metadata": {
  "kernelspec": {
   "display_name": "Python 3",
   "language": "python",
   "name": "python3"
  },
  "language_info": {
   "codemirror_mode": {
    "name": "ipython",
    "version": 3
   },
   "file_extension": ".py",
   "mimetype": "text/x-python",
   "name": "python",
   "nbconvert_exporter": "python",
   "pygments_lexer": "ipython3",
   "version": "3.7.6"
  }
 },
 "nbformat": 4,
 "nbformat_minor": 5
}
